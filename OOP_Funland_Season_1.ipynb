{
  "nbformat": 4,
  "nbformat_minor": 0,
  "metadata": {
    "colab": {
      "provenance": [],
      "authorship_tag": "ABX9TyMw9wZQENcM4u7vkHSMul3w",
      "include_colab_link": true
    },
    "kernelspec": {
      "name": "python3",
      "display_name": "Python 3"
    },
    "language_info": {
      "name": "python"
    }
  },
  "cells": [
    {
      "cell_type": "markdown",
      "metadata": {
        "id": "view-in-github",
        "colab_type": "text"
      },
      "source": [
        "<a href=\"https://colab.research.google.com/github/aminsystem/OOP-Funland/blob/main/OOP_Funland_Season_1.ipynb\" target=\"_parent\"><img src=\"https://colab.research.google.com/assets/colab-badge.svg\" alt=\"Open In Colab\"/></a>"
      ]
    },
    {
      "cell_type": "markdown",
      "metadata": {
        "id": "a0975b8a"
      },
      "source": [
        "# 🎬 OOP Funland - Season 1: “The Object Awakens”\n",
        "✅ Tip style, 👀 Short explanations, 💡 Practical twists"
      ]
    },
    {
      "cell_type": "markdown",
      "metadata": {
        "id": "fbe8a419"
      },
      "source": [
        "📘 Episode 1: Hello, Life!"
      ]
    },
    {
      "cell_type": "code",
      "metadata": {
        "id": "e3eda0c5",
        "colab": {
          "base_uri": "https://localhost:8080/"
        },
        "outputId": "5520932b-f2e5-4427-9ff6-83477f261f90"
      },
      "source": [
        "class Life:\n",
        "    def __init__(self, name='unknown'):\n",
        "        print('Hello ' + name)\n",
        "        self.name = name\n",
        "\n",
        "    def live(self):\n",
        "        print(self.name)\n",
        "\n",
        "    def __del__(self):\n",
        "        print('Goodbye ' + self.name)\n",
        "\n",
        "# 🎭 The Show\n",
        "ob = Life('Sara')   # Hello Sara\n",
        "ob.live()           # Sara\n",
        "ob = 'Ali'          # Goodbye Sara"
      ],
      "execution_count": null,
      "outputs": [
        {
          "output_type": "stream",
          "name": "stdout",
          "text": [
            "Hello Sara\n",
            "Sara\n",
            "Goodbye Sara\n"
          ]
        }
      ]
    },
    {
      "cell_type": "markdown",
      "metadata": {
        "id": "2fb0fef5"
      },
      "source": [
        "💡 Tip: Python calls `__del__()` when the object is deleted or overwritten. Be cautious—this moment is like saying goodbye to your character!"
      ]
    },
    {
      "cell_type": "markdown",
      "metadata": {
        "id": "4c629057"
      },
      "source": [
        "📘 Episode 2: The Method Machine"
      ]
    },
    {
      "cell_type": "code",
      "metadata": {
        "id": "06429c6b",
        "outputId": "73904f1d-c437-401d-d228-f7ac2422390f",
        "colab": {
          "base_uri": "https://localhost:8080/"
        }
      },
      "source": [
        "class C:\n",
        "    def __init__(self, a):\n",
        "        self.a = a\n",
        "\n",
        "    def f(self, x, y):\n",
        "        return self.a + x + y\n",
        "\n",
        "ob = C(1)\n",
        "print(ob.f(2, 3))           # 6\n",
        "print(C.f(ob, 2, 3))        # Same as above"
      ],
      "execution_count": null,
      "outputs": [
        {
          "output_type": "stream",
          "name": "stdout",
          "text": [
            "6\n",
            "6\n"
          ]
        }
      ]
    },
    {
      "cell_type": "markdown",
      "metadata": {
        "id": "5c6cdf59"
      },
      "source": [
        "💡 Tip: You can call methods like `Class.method(obj, ...)` — same result!"
      ]
    },
    {
      "cell_type": "markdown",
      "metadata": {
        "id": "6c201300"
      },
      "source": [
        "📘 Episode 3: Mutate Me Not"
      ]
    },
    {
      "cell_type": "code",
      "metadata": {
        "id": "3dc4468a",
        "outputId": "29311023-8303-4cf2-a3bb-fbbaf6a1065e",
        "colab": {
          "base_uri": "https://localhost:8080/"
        }
      },
      "source": [
        "def add(obj, k):\n",
        "    obj.t += 1  # Affects the object\n",
        "    k += 1      # Just a copy\n",
        "\n",
        "class A:\n",
        "    def __init__(self):\n",
        "        self.t = 1\n",
        "\n",
        "ob = A()\n",
        "k = 0\n",
        "add(ob, k)\n",
        "add(ob, k)\n",
        "print(ob.t)   # 3\n",
        "print(k)      # 0"
      ],
      "execution_count": null,
      "outputs": [
        {
          "output_type": "stream",
          "name": "stdout",
          "text": [
            "3\n",
            "0\n"
          ]
        }
      ]
    },
    {
      "cell_type": "markdown",
      "metadata": {
        "id": "6cc3f171"
      },
      "source": [
        "💡 Tip: Mutable vs immutable! Objects change, numbers (ints) don’t unless returned."
      ]
    },
    {
      "cell_type": "markdown",
      "metadata": {
        "id": "ebac02af"
      },
      "source": [
        "📘 Episode 4: Point Break"
      ]
    },
    {
      "cell_type": "code",
      "metadata": {
        "id": "8253a45e"
      },
      "source": [
        "import math\n",
        "\n",
        "class Point:\n",
        "    def __init__(self, x, y):\n",
        "        self.x = x\n",
        "        self.y = y\n",
        "\n",
        "    def dist(self, pt):\n",
        "        return math.dist([self.x, self.y], [pt.x, pt.y])\n",
        "\n",
        "p1 = Point(2, 3)\n",
        "p2 = Point(3, 3)\n",
        "print(p1.dist(p2))   # 1.0"
      ],
      "execution_count": null,
      "outputs": []
    },
    {
      "cell_type": "markdown",
      "metadata": {
        "id": "67b07b44"
      },
      "source": [
        "💡 Tip: Use `math.dist` for clean distance calculations (Python 3.8+)"
      ]
    },
    {
      "cell_type": "markdown",
      "metadata": {
        "id": "6f9f362e"
      },
      "source": [
        "📘 Episode 5: The Secret Inside __dict__"
      ]
    },
    {
      "cell_type": "code",
      "metadata": {
        "id": "47963c86"
      },
      "source": [
        "class Person:\n",
        "    def __init__(self, id):\n",
        "        self.id = id\n",
        "\n",
        "ali = Person(100)\n",
        "print(ali.__dict__)              # {'id': 100}\n",
        "ali.__dict__['age'] = 35\n",
        "print(ali.__dict__)              # {'id': 100, 'age': 35}\n",
        "print(len(ali.__dict__))         # 2"
      ],
      "execution_count": null,
      "outputs": []
    },
    {
      "cell_type": "markdown",
      "metadata": {
        "id": "65c638a9"
      },
      "source": [
        "💡 Tip: `__dict__` is your object’s backpack—it holds all dynamic attributes!"
      ]
    },
    {
      "cell_type": "markdown",
      "metadata": {
        "id": "a596bd57"
      },
      "source": [
        "📘 Episode 6: The Secret Keepers (Public, Protected, Private)"
      ]
    },
    {
      "cell_type": "code",
      "metadata": {
        "id": "56825fb5"
      },
      "source": [
        "class B:\n",
        "    def __init__(self,a,b,c):\n",
        "        self.a = a       # public\n",
        "        self._b = b      # protected (just a hint)\n",
        "        self.__c = c     # private (name-mangled)\n",
        "\n",
        "    def f(self):\n",
        "        print(self.a)\n",
        "        print(self._b)\n",
        "        print(self.__c)\n",
        "\n",
        "ob = B(1, 2, 3)\n",
        "print(ob.a)         # ✅\n",
        "print(ob._b)        # ✅ (but be gentle)\n",
        "print(ob._B__c)     # ✅ via name mangling"
      ],
      "execution_count": null,
      "outputs": []
    },
    {
      "cell_type": "markdown",
      "metadata": {
        "id": "793a49d1"
      },
      "source": [
        "💡 Tip: `__var` becomes `_ClassName__var`. Use for internal stuff, but it’s not truly private."
      ]
    },
    {
      "cell_type": "markdown",
      "metadata": {
        "id": "81b64dfe"
      },
      "source": [
        "📘 Episode 7: Decorator Drama 🎭"
      ]
    },
    {
      "cell_type": "code",
      "metadata": {
        "id": "57fa663f"
      },
      "source": [
        "def formatting(lowerscase=False):\n",
        "    def d(func):\n",
        "        def w(text=''):\n",
        "            if lowerscase:\n",
        "                func(text.lower())\n",
        "            else:\n",
        "                func(text.upper())\n",
        "        return w\n",
        "    return d\n",
        "\n",
        "@formatting(lowerscase=True)\n",
        "def f(s):\n",
        "    print(s)\n",
        "\n",
        "f(\"Python\")  # python"
      ],
      "execution_count": null,
      "outputs": []
    },
    {
      "cell_type": "markdown",
      "metadata": {
        "id": "3167f2c2"
      },
      "source": [
        "💡 Tip: Decorators can be customized with arguments! This one chooses casing."
      ]
    },
    {
      "cell_type": "markdown",
      "metadata": {
        "id": "6f511fd4"
      },
      "source": [
        "📘 Episode 8: Class Factory 🍭"
      ]
    },
    {
      "cell_type": "code",
      "metadata": {
        "id": "4653f55b"
      },
      "source": [
        "class B:\n",
        "    def __init__(self, s):\n",
        "        self.s = s\n",
        "\n",
        "    @classmethod\n",
        "    def f(cls, lst):\n",
        "        x = cls('')\n",
        "        x.s = '-'.join(str(i) for i in lst)\n",
        "        return x\n",
        "\n",
        "    def __str__(self):\n",
        "        return self.s\n",
        "\n",
        "a = ['5','8','6']\n",
        "ob = B.f(a)\n",
        "print(ob)  # 5-8-6"
      ],
      "execution_count": null,
      "outputs": []
    },
    {
      "cell_type": "markdown",
      "metadata": {
        "id": "62f056ad"
      },
      "source": [
        "💡 Tip: `@classmethod` lets you create factory methods that return an instance!"
      ]
    },
    {
      "cell_type": "markdown",
      "metadata": {
        "id": "ed48a3ab"
      },
      "source": [
        "📘 Episode 9: Titles & Filters 🏷️"
      ]
    },
    {
      "cell_type": "code",
      "metadata": {
        "id": "32dbdace"
      },
      "source": [
        "class Person:\n",
        "    TITLES = ('Mr', 'Mrs', 'Ms')\n",
        "\n",
        "    @classmethod\n",
        "    def f(cls, a):\n",
        "        return [t for t in cls.TITLES if t.endswith(a)]\n",
        "\n",
        "ob = Person()\n",
        "print(ob.f(\"s\"))  # ['Mrs', 'Ms']"
      ],
      "execution_count": null,
      "outputs": []
    },
    {
      "cell_type": "markdown",
      "metadata": {
        "id": "878be6aa"
      },
      "source": [
        "💡 Tip: Class variables are shared across all objects. Great for constants."
      ]
    },
    {
      "cell_type": "markdown",
      "metadata": {
        "id": "8fcf6b78"
      },
      "source": [
        "📘 Episode 10: Method Madness (Instance, Static, Class)"
      ]
    },
    {
      "cell_type": "code",
      "metadata": {
        "id": "f8695aea"
      },
      "source": [
        "class C:\n",
        "    def f(self, x):\n",
        "        print([self, x])  # instance method\n",
        "\n",
        "    def s(x):\n",
        "        print(x + 3)      # static method\n",
        "\n",
        "    def h(cls, x):\n",
        "        print([cls, x])   # class method\n",
        "\n",
        "    s = staticmethod(s)\n",
        "    h = classmethod(h)\n",
        "\n",
        "obj = C()\n",
        "obj.f(5)     # [<__main__.C object>, 5]\n",
        "C.s(1)       # 4\n",
        "C.h(3)       # [<class '__main__.C'>, 3]"
      ],
      "execution_count": null,
      "outputs": []
    },
    {
      "cell_type": "markdown",
      "metadata": {
        "id": "67516cbf"
      },
      "source": [
        "💡 Tip:\n",
        "\n",
        "Instance method → needs self\n",
        "\n",
        "Class method → gets cls\n",
        "\n",
        "Static method → no auto argument!"
      ]
    },
    {
      "cell_type": "markdown",
      "metadata": {
        "id": "4795212f"
      },
      "source": [
        "📘 Episode 11: Counting Class Members 🎲"
      ]
    },
    {
      "cell_type": "code",
      "metadata": {
        "id": "82d24109"
      },
      "source": [
        "class C:\n",
        "    n = 0  # class variable\n",
        "\n",
        "    def __init__(self):\n",
        "        C.n += 1\n",
        "\n",
        "    def p():\n",
        "        print(C.n)\n",
        "\n",
        "a = C()\n",
        "b = C()\n",
        "C.p()   # 2"
      ],
      "execution_count": null,
      "outputs": []
    },
    {
      "cell_type": "markdown",
      "metadata": {
        "id": "c59294e8"
      },
      "source": [
        "💡 Tip: Want to count how many instances were made? Use class variables!"
      ]
    },
    {
      "cell_type": "markdown",
      "metadata": {
        "id": "e2a13d58"
      },
      "source": [
        "📘 Episode 12: Lambdas Meet Objects 🎯"
      ]
    },
    {
      "cell_type": "code",
      "metadata": {
        "id": "3241501c"
      },
      "source": [
        "class C:\n",
        "    x = 2\n",
        "\n",
        "ob = C()\n",
        "k = lambda: ob.x + 3\n",
        "print(k())  # 5"
      ],
      "execution_count": null,
      "outputs": []
    },
    {
      "cell_type": "markdown",
      "metadata": {
        "id": "146b1e11"
      },
      "source": [
        "💡 Tip: Lambdas can access variables from their outer scope—like mini functions!"
      ]
    },
    {
      "cell_type": "markdown",
      "metadata": {
        "id": "34760437"
      },
      "source": [
        "📘 Episode 13: Who’s Your Class, Baby?"
      ]
    },
    {
      "cell_type": "code",
      "metadata": {
        "id": "76b913f1"
      },
      "source": [
        "class C:\n",
        "    pass\n",
        "\n",
        "ob = C()\n",
        "print(ob.__class__)        # <class '__main__.C'>\n",
        "print(isinstance(ob, C))   # True\n",
        "print(C.__bases__)         # (<class 'object'>,)"
      ],
      "execution_count": null,
      "outputs": []
    },
    {
      "cell_type": "markdown",
      "metadata": {
        "id": "d0482405"
      },
      "source": [
        "💡 Tip: Everything in Python is an object. Even your classes."
      ]
    },
    {
      "cell_type": "markdown",
      "metadata": {
        "id": "94377f23"
      },
      "source": [
        "📘 Episode 14: Department of Students 🧑‍🎓📚"
      ]
    },
    {
      "cell_type": "code",
      "metadata": {
        "id": "31b08211"
      },
      "source": [
        "class Department:\n",
        "    def __init__(self):\n",
        "        self.lst = []\n",
        "\n",
        "    def f(self, s):\n",
        "        self.lst.append(s)\n",
        "\n",
        "class Student:\n",
        "    def __init__(self, name):\n",
        "        self.name = name\n",
        "\n",
        "d = Department()\n",
        "d.f(Student(\"Ali\"))\n",
        "d.f(Student(\"Farshid\"))\n",
        "\n",
        "for s in d.lst:\n",
        "    print(s.name)  # Ali, Farshid"
      ],
      "execution_count": null,
      "outputs": []
    },
    {
      "cell_type": "markdown",
      "metadata": {
        "id": "f6b35652"
      },
      "source": [
        "💡 Tip: A class can hold other class instances—like a real-world relationship!"
      ]
    },
    {
      "cell_type": "markdown",
      "metadata": {
        "id": "29a26547"
      },
      "source": [
        "📘 Episode 15: Property Party 🎉"
      ]
    },
    {
      "cell_type": "code",
      "metadata": {
        "id": "11f7d5e3"
      },
      "source": [
        "class C:\n",
        "    def f(self):\n",
        "        print(\"F\")\n",
        "\n",
        "    @property\n",
        "    def g(self):    # just acts like an attribute!\n",
        "        return \"G\"\n",
        "\n",
        "ob = C()\n",
        "ob.f()          # F\n",
        "print(ob.g)     # G\n",
        "# ob.g()        # ❌ will crash!"
      ],
      "execution_count": null,
      "outputs": []
    },
    {
      "cell_type": "markdown",
      "metadata": {
        "id": "bb2edf5e"
      },
      "source": [
        "💡 Tip: Use `@property` when you want a method that looks like a field!"
      ]
    },
    {
      "cell_type": "markdown",
      "metadata": {
        "id": "e58ec38f"
      },
      "source": [
        "📘 Episode 16: Function Object 👋"
      ]
    },
    {
      "cell_type": "code",
      "metadata": {
        "id": "503bc72a"
      },
      "source": [
        "class C:\n",
        "    def __init__(self, n=0):\n",
        "        self.n = n\n",
        "\n",
        "    def __call__(self, n):\n",
        "        self.n = n\n",
        "\n",
        "ob = C()\n",
        "print(ob.n)   # 0\n",
        "ob(5)\n",
        "print(ob.n)   # 5"
      ],
      "execution_count": null,
      "outputs": []
    },
    {
      "cell_type": "markdown",
      "metadata": {
        "id": "00dcf979"
      },
      "source": [
        "💡 Tip: Add `__call__` and boom—your object behaves like a function!"
      ]
    },
    {
      "cell_type": "markdown",
      "metadata": {
        "id": "bebb47ee"
      },
      "source": [
        "📘 Episode 17: Dangerous Side Effects ⚠️"
      ]
    },
    {
      "cell_type": "code",
      "metadata": {
        "id": "1494273d"
      },
      "source": [
        "class C:\n",
        "    a = 1  # class attribute\n",
        "\n",
        "ob1 = C()\n",
        "print(ob1.a)  # 1\n",
        "\n",
        "C.a = 2\n",
        "print(ob1.a)  # 2\n",
        "\n",
        "ob2 = C()\n",
        "print(ob2.a)  # 2"
      ],
      "execution_count": null,
      "outputs": []
    },
    {
      "cell_type": "markdown",
      "metadata": {
        "id": "a13f1168"
      },
      "source": [
        "💡 Tip: Class attributes are shared! Change it on class, affects everyone!"
      ]
    },
    {
      "cell_type": "markdown",
      "metadata": {
        "id": "8930b171"
      },
      "source": [
        "📘 Episode 18: The Mutable Monster 👹"
      ]
    },
    {
      "cell_type": "code",
      "metadata": {
        "id": "6643180f"
      },
      "source": [
        "class C:\n",
        "    s = []           # class attribute (shared)\n",
        "    def __init__(self):\n",
        "        self.p = []  # instance attribute (per object)\n",
        "\n",
        "x = C()\n",
        "y = C()\n",
        "x.s.append('a')\n",
        "x.p.append('a')\n",
        "print(x.s, x.p)  # ['a'], ['a']\n",
        "print(y.s, y.p)  # ['a'], []"
      ],
      "execution_count": null,
      "outputs": []
    },
    {
      "cell_type": "markdown",
      "metadata": {
        "id": "9d7bb75e"
      },
      "source": [
        "💡 Tip: Avoid mutable class attributes unless you really mean to share them."
      ]
    },
    {
      "cell_type": "markdown",
      "metadata": {
        "id": "1889a3c3"
      },
      "source": [
        "📘 Episode 19: Class in a Function 🎁"
      ]
    },
    {
      "cell_type": "code",
      "metadata": {
        "id": "2c1d5cef"
      },
      "source": [
        "def f():\n",
        "    class C:\n",
        "        a = 1\n",
        "        def m(self):\n",
        "            C.a += 2\n",
        "            return C.a\n",
        "    return C()\n",
        "\n",
        "print(f().m())  # 3"
      ],
      "execution_count": null,
      "outputs": []
    },
    {
      "cell_type": "markdown",
      "metadata": {
        "id": "2ee31121"
      },
      "source": [
        "💡 Tip: You can define classes anywhere—even inside a function."
      ]
    },
    {
      "cell_type": "markdown",
      "metadata": {
        "id": "1717d4d5"
      },
      "source": [
        "📘 Episode 20: Decorator Counter 💥"
      ]
    },
    {
      "cell_type": "code",
      "metadata": {
        "id": "7b6d66c5"
      },
      "source": [
        "def d(func):\n",
        "    def f(*args):\n",
        "        f.c += 1\n",
        "        print(f.c)\n",
        "        return func(*args)\n",
        "    f.c = 0\n",
        "    return f\n",
        "\n",
        "class C:\n",
        "    @d\n",
        "    def g(self, a, b):\n",
        "        return a + b\n",
        "\n",
        "ob = C()\n",
        "print(ob.g(1, 2))            # 1  3\n",
        "print(ob.g('ali', 'reza'))   # 2  alireza"
      ],
      "execution_count": null,
      "outputs": []
    },
    {
      "cell_type": "markdown",
      "metadata": {
        "id": "eda53d7b"
      },
      "source": [
        "💡 Tip: You can track calls using function attributes! Fun for logging, testing, etc."
      ]
    },
    {
      "cell_type": "markdown",
      "metadata": {
        "id": "a9462f30"
      },
      "source": [
        "📘 Episode 21: The Decorator Wizard 🧙‍♂️"
      ]
    },
    {
      "cell_type": "code",
      "metadata": {
        "id": "90cf0918"
      },
      "source": [
        "class T:\n",
        "    def __init__(self, func):\n",
        "        self.c = 0\n",
        "        self.func = func\n",
        "\n",
        "    def __call__(self, *args):\n",
        "        self.c += 1\n",
        "        print(self.c)\n",
        "        return self.func(*args)\n",
        "\n",
        "@T\n",
        "def g(a, b):\n",
        "    return a + b\n",
        "\n",
        "print(g(1, 2))           # 1  3\n",
        "print(g('ali', 'reza'))  # 2  alireza"
      ],
      "execution_count": null,
      "outputs": []
    },
    {
      "cell_type": "markdown",
      "metadata": {
        "id": "da2de63a"
      },
      "source": [
        "💡 Tip: Classes can be decorators too! Use `__call__` to control function behavior."
      ]
    },
    {
      "cell_type": "markdown",
      "metadata": {
        "id": "426f653c"
      },
      "source": [
        "📘 Episode 22: Nested Magic 🪄"
      ]
    },
    {
      "cell_type": "code",
      "metadata": {
        "id": "eb418073"
      },
      "source": [
        "def d1(F):\n",
        "    return lambda: 'X' + F()\n",
        "\n",
        "def d2(F):\n",
        "    return lambda: 'Y' + F()\n",
        "\n",
        "@d1\n",
        "@d2\n",
        "def func():\n",
        "    return 's'\n",
        "\n",
        "print(func())  # XYs"
      ],
      "execution_count": null,
      "outputs": []
    },
    {
      "cell_type": "markdown",
      "metadata": {
        "id": "1752b40e"
      },
      "source": [
        "💡 Tip: Decorator stacking is like layering wrappers—order matters!"
      ]
    },
    {
      "cell_type": "markdown",
      "metadata": {
        "id": "31734e15"
      },
      "source": [
        "📘 Episode 23: The Square Dealer 🔢"
      ]
    },
    {
      "cell_type": "code",
      "metadata": {
        "id": "f516f50c"
      },
      "source": [
        "class Squares:\n",
        "    def __init__(self, start, stop):\n",
        "        self.start = start\n",
        "        self.stop = stop\n",
        "\n",
        "    def __iter__(self):\n",
        "        for v in range(self.start, self.stop + 1):\n",
        "            yield v ** 2\n",
        "\n",
        "for i in Squares(1, 3):\n",
        "    print(i)  # 1 4 9"
      ],
      "execution_count": null,
      "outputs": []
    },
    {
      "cell_type": "markdown",
      "metadata": {
        "id": "fd947da5"
      },
      "source": [
        "💡 Tip: Add `__iter__` + `yield` to make your own iterators!"
      ]
    },
    {
      "cell_type": "markdown",
      "metadata": {
        "id": "9028c7f6"
      },
      "source": [
        "📘 Episode 24: Property With Power 💪"
      ]
    },
    {
      "cell_type": "code",
      "metadata": {
        "id": "ef632830"
      },
      "source": [
        "class C:\n",
        "    def f(self):\n",
        "        print(\"1\")\n",
        "        return self._a\n",
        "\n",
        "    def g(self, value):\n",
        "        print(\"2\")\n",
        "        self._a = value\n",
        "\n",
        "    def h(self):\n",
        "        print(\"3\")\n",
        "        del self._a\n",
        "\n",
        "    a = property(f, g, h)\n",
        "\n",
        "ob = C()\n",
        "ob.a = \"sara\"  # 2\n",
        "print(ob.a)    # 1  sara\n",
        "del ob.a       # 3"
      ],
      "execution_count": null,
      "outputs": []
    },
    {
      "cell_type": "markdown",
      "metadata": {
        "id": "8cb39181"
      },
      "source": [
        "💡 Tip: Properties can control get, set, and delete!"
      ]
    },
    {
      "cell_type": "markdown",
      "metadata": {
        "id": "e78902d5"
      },
      "source": [
        "📘 Episode 25: Methods Are Objects Too 🧱"
      ]
    },
    {
      "cell_type": "code",
      "metadata": {
        "id": "6010dd3c"
      },
      "source": [
        "class C:\n",
        "    def f(self, message):\n",
        "        print(message)\n",
        "\n",
        "ob = C()\n",
        "g = ob.f\n",
        "g('shirafkan')  # shirafkan\n",
        "\n",
        "h = C.f\n",
        "h(ob, 'again')  # again"
      ],
      "execution_count": null,
      "outputs": []
    },
    {
      "cell_type": "markdown",
      "metadata": {
        "id": "0aa53f44"
      },
      "source": [
        "💡 Tip: Methods are first-class! You can store and call them like any other object."
      ]
    },
    {
      "cell_type": "markdown",
      "metadata": {
        "id": "653efc4e"
      },
      "source": [
        "📘 Episode 26: The Generic Factory 🏭"
      ]
    },
    {
      "cell_type": "code",
      "metadata": {
        "id": "870fefcd"
      },
      "source": [
        "def f(klass, *pargs, **kargs):\n",
        "    return klass(*pargs, **kargs)\n",
        "\n",
        "class C:\n",
        "    def doit(self, m):\n",
        "        print(m)\n",
        "\n",
        "class P:\n",
        "    def __init__(self, n, j=None):\n",
        "        self.n = n\n",
        "        self.j = j\n",
        "\n",
        "ob = f(C)\n",
        "ob.doit(1)\n",
        "\n",
        "y = f(P, 5, \"K\")\n",
        "print(y.n, y.j)  # 5 K\n",
        "\n",
        "z = f(P, n=8)\n",
        "print(z.n, z.j)  # 8 None"
      ],
      "execution_count": null,
      "outputs": []
    },
    {
      "cell_type": "markdown",
      "metadata": {
        "id": "35708264"
      },
      "source": [
        "💡 Tip: Classes = functions. You can pass them around and call them dynamically."
      ]
    },
    {
      "cell_type": "markdown",
      "metadata": {
        "id": "689658c3"
      },
      "source": [
        "📘 Episode 27: Operator Overloaders ⚔️"
      ]
    },
    {
      "cell_type": "code",
      "metadata": {
        "id": "c7d3dd9a"
      },
      "source": [
        "class C:\n",
        "    def __init__(self, x=2, y=3):\n",
        "        self.x = x\n",
        "        self.y = y\n",
        "\n",
        "    def __eq__(self, o):\n",
        "        return self.x * self.y == o.x * o.y\n",
        "\n",
        "a = C(1, 4)\n",
        "b = C(2, 2)\n",
        "print(a == b)  # True"
      ],
      "execution_count": null,
      "outputs": []
    },
    {
      "cell_type": "markdown",
      "metadata": {
        "id": "9046c035"
      },
      "source": [
        "💡 Tip: Customize comparison with `__eq__`, `__lt__`, `__gt__` and friends!"
      ]
    },
    {
      "cell_type": "markdown",
      "metadata": {
        "id": "4c59067f"
      },
      "source": [
        "📘 Episode 28: Text Adventure! 📝"
      ]
    },
    {
      "cell_type": "code",
      "metadata": {
        "id": "036ef2c8"
      },
      "source": [
        "class Cursor:\n",
        "    def __init__(self, doc):\n",
        "        self.doc = doc\n",
        "        self.p = 0\n",
        "\n",
        "    def forward(self):\n",
        "        self.p += 1\n",
        "\n",
        "    def back(self):\n",
        "        self.p -= 1\n",
        "\n",
        "    def home(self):\n",
        "        while self.p > 0 and self.doc.lst[self.p - 1] != '\\n':\n",
        "            self.p -= 1\n",
        "\n",
        "    def end(self):\n",
        "        while self.p < len(self.doc.lst) and self.doc.lst[self.p] != '\\n':\n",
        "            self.p += 1\n",
        "\n",
        "class Document:\n",
        "    def __init__(self, filename):\n",
        "        self.lst = []\n",
        "        self.cursor = Cursor(self)\n",
        "        self.filename = filename\n",
        "\n",
        "    def insert(self, character):\n",
        "        self.lst.insert(self.cursor.p, character)\n",
        "        self.cursor.forward()\n",
        "\n",
        "    def delete(self):\n",
        "        del self.lst[self.cursor.p]\n",
        "\n",
        "    def save(self):\n",
        "        with open(self.filename, 'w') as f:\n",
        "            f.write(''.join(self.lst))\n",
        "\n",
        "    @property\n",
        "    def string(self):\n",
        "        return ''.join(self.lst)\n",
        "\n",
        "# 🎮 Gameplay\n",
        "d = Document('a.txt')\n",
        "for ch in \"shirafkan\":\n",
        "    d.insert(ch)\n",
        "\n",
        "print(d.string)   # shirafkan\n",
        "d.cursor.home()\n",
        "d.insert(\"*\")\n",
        "print(d.string)   # *shirafkan\n",
        "d.save()"
      ],
      "execution_count": null,
      "outputs": []
    },
    {
      "cell_type": "markdown",
      "metadata": {
        "id": "9041e00e"
      },
      "source": [
        "💡 Tip: You just built a working document editor. Yes, seriously."
      ]
    },
    {
      "cell_type": "markdown",
      "metadata": {
        "id": "50d9e885"
      },
      "source": [
        "📘 Episode 29: Overloading < and > 🧠"
      ]
    },
    {
      "cell_type": "code",
      "metadata": {
        "id": "86cdc729"
      },
      "source": [
        "class C:\n",
        "    data = 'b'\n",
        "\n",
        "    def __gt__(self, other):  # greater than\n",
        "        return self.data > other\n",
        "\n",
        "    def __lt__(self, other):  # less than\n",
        "        return self.data < other\n",
        "\n",
        "ob = C()\n",
        "print(ob < 'd')  # True\n",
        "print(ob > 'a')  # True"
      ],
      "execution_count": null,
      "outputs": []
    },
    {
      "cell_type": "markdown",
      "metadata": {
        "id": "73f9225a"
      },
      "source": [
        "💡 Tip: `__gt__`, `__lt__`, `__eq__` turn your class into a smart comparator."
      ]
    },
    {
      "cell_type": "markdown",
      "metadata": {
        "id": "59937bef"
      },
      "source": [
        "📘 Episode 30: Lambda Editor Returns! 💡"
      ]
    },
    {
      "cell_type": "code",
      "metadata": {
        "id": "e6f50b91"
      },
      "source": [
        "# Already covered the full Document class earlier\n",
        "# Let’s test more features!\n",
        "\n",
        "d = Document('demo.txt')\n",
        "for ch in \"hello\\nworld\":\n",
        "    d.insert(ch)\n",
        "\n",
        "print(d.string)   # hello\\nworld\n",
        "d.cursor.home()\n",
        "d.insert(\"*\")\n",
        "print(d.string)   # *hello\\nworld"
      ],
      "execution_count": null,
      "outputs": []
    },
    {
      "cell_type": "markdown",
      "metadata": {
        "id": "b9ea25fd"
      },
      "source": [
        "💡 Tip: `\\n` makes multi-line possible. You can build on this to make full text processors!"
      ]
    },
    {
      "cell_type": "markdown",
      "metadata": {
        "id": "d9862bd4"
      },
      "source": [
        "📘 Episode 31: Method to the Madness 🌀"
      ]
    },
    {
      "cell_type": "code",
      "metadata": {
        "id": "eac2e537"
      },
      "source": [
        "class C:\n",
        "    def f(self, n):\n",
        "        print(n)\n",
        "\n",
        "    def g(self):\n",
        "        x = self.f\n",
        "        x(5)\n",
        "\n",
        "C().g()  # 5"
      ],
      "execution_count": null,
      "outputs": []
    },
    {
      "cell_type": "markdown",
      "metadata": {
        "id": "8cfe89ef"
      },
      "source": [
        "💡 Tip: You can pass instance methods around like variables. Super handy for callbacks!"
      ]
    },
    {
      "cell_type": "markdown",
      "metadata": {
        "id": "594626e3"
      },
      "source": [
        "📘 Episode 32: The True End: __str__ vs __repr__\n",
        "Let’s clarify this mystery 🔎"
      ]
    },
    {
      "cell_type": "code",
      "metadata": {
        "id": "a00d6487"
      },
      "source": [
        "class C:\n",
        "    def __str__(self):\n",
        "        return \"For humans 😄\"\n",
        "\n",
        "    def __repr__(self):\n",
        "        return \"For devs 🧑‍💻\"\n",
        "\n",
        "c = C()\n",
        "print(str(c))   # For humans 😄\n",
        "print(repr(c))  # For devs 🧑‍💻"
      ],
      "execution_count": null,
      "outputs": []
    },
    {
      "cell_type": "markdown",
      "metadata": {
        "id": "2f2c8770"
      },
      "source": [
        "💡 Tip: `__str__` = pretty display for users\n",
        "`__repr__` = unambiguous info for devs/debuggers"
      ]
    }
  ]
}