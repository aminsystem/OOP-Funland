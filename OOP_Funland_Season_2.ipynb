{
  "nbformat": 4,
  "nbformat_minor": 0,
  "metadata": {
    "colab": {
      "provenance": [],
      "authorship_tag": "ABX9TyOeQD5FbMzLBc7Va49mGDX1",
      "include_colab_link": true
    },
    "kernelspec": {
      "name": "python3",
      "display_name": "Python 3"
    },
    "language_info": {
      "name": "python"
    }
  },
  "cells": [
    {
      "cell_type": "markdown",
      "metadata": {
        "id": "view-in-github",
        "colab_type": "text"
      },
      "source": [
        "<a href=\"https://colab.research.google.com/github/aminsystem/OOP-Funland/blob/main/OOP_Funland_Season_2.ipynb\" target=\"_parent\"><img src=\"https://colab.research.google.com/assets/colab-badge.svg\" alt=\"Open In Colab\"/></a>"
      ]
    },
    {
      "cell_type": "markdown",
      "source": [
        "# 🎬 OOP Funland - Season 2: “The Inheritance Strikes Back”\n",
        "✅ Tip style, 👀 Short explanations, 💡 Practical twists"
      ],
      "metadata": {
        "id": "r8eRLdCVegTN"
      }
    },
    {
      "cell_type": "markdown",
      "source": [
        "🧠 \"OOP Funland: Mastering Python Classes with Real-World Twists!\""
      ],
      "metadata": {
        "id": "xVJVWqD1wFYi"
      }
    },
    {
      "cell_type": "markdown",
      "metadata": {
        "id": "3c16ab73"
      },
      "source": [
        "🎪 Episode 1: \"Rectangle vs Square – The Area Showdown!\""
      ]
    },
    {
      "cell_type": "code",
      "metadata": {
        "colab": {
          "base_uri": "https://localhost:8080/"
        },
        "id": "c4fd7c5d",
        "outputId": "5df4537c-f607-4be5-8e89-c2854d498a3f"
      },
      "source": [
        "class Rect:\n",
        "    def __init__(self, x, y):\n",
        "        self.x = x\n",
        "        self.y = y\n",
        "\n",
        "    @property\n",
        "    def area(self):\n",
        "        return self.x * self.y\n",
        "\n",
        "class Square(Rect):\n",
        "    def __init__(self, z):\n",
        "        super().__init__(x=z, y=z)\n",
        "\n",
        "r = Rect(2, 3)\n",
        "print(r.area)  # 6\n",
        "s = Square(5)\n",
        "print(s.area)  # 25"
      ],
      "execution_count": 1,
      "outputs": [
        {
          "output_type": "stream",
          "name": "stdout",
          "text": [
            "6\n",
            "25\n"
          ]
        }
      ]
    },
    {
      "cell_type": "markdown",
      "metadata": {
        "id": "3f4b8998"
      },
      "source": [
        "🧠 Tips:\n",
        "* `@property` lets you access a method like an attribute → no `()` needed!\n",
        "* `super().__init__()` calls the parent’s constructor. Handy for DRY code!\n",
        "* A square is-a rectangle, just with equal sides → classic inheritance use."
      ]
    },
    {
      "cell_type": "markdown",
      "metadata": {
        "id": "32b0ed6e"
      },
      "source": [
        "🎭 Episode 2: \"The Secret Life of Underscores\""
      ]
    },
    {
      "cell_type": "code",
      "metadata": {
        "id": "96fc0868",
        "colab": {
          "base_uri": "https://localhost:8080/"
        },
        "outputId": "226525de-2e9a-4ad2-db70-17c284cf950f"
      },
      "source": [
        "class A:\n",
        "    def __init__(self):\n",
        "        self.__x = 1\n",
        "        self.y = 2\n",
        "\n",
        "    def p(self):\n",
        "        print(self.__x, self.y)\n",
        "\n",
        "class B(A):\n",
        "    def __init__(self):\n",
        "        super().__init__()\n",
        "        self.__x = 3\n",
        "        self.y = 4\n",
        "\n",
        "b = B()\n",
        "b.p()  # 1  4\n",
        "print(b._B__x)  # 3"
      ],
      "execution_count": 2,
      "outputs": [
        {
          "output_type": "stream",
          "name": "stdout",
          "text": [
            "1 4\n",
            "3\n"
          ]
        }
      ]
    },
    {
      "cell_type": "markdown",
      "metadata": {
        "id": "15c7f08a"
      },
      "source": [
        "🧠 Tips:\n",
        "* `__x` becomes name-mangled → internally stored as `_ClassName__x`.\n",
        "* B’s `__x` and A’s `__x` are not the same! They’re hidden from each other.\n",
        "* Still accessible via the mangled name (not recommended outside debugging)."
      ]
    },
    {
      "cell_type": "markdown",
      "metadata": {
        "id": "6452cfae"
      },
      "source": [
        "✂️ Episode 3: \"ClipBoard Wars: The Misuse of Class Attributes\""
      ]
    },
    {
      "cell_type": "code",
      "metadata": {
        "id": "f7ae48b9"
      },
      "source": [
        "class ClipBoard:\n",
        "    def __init__(self, target):\n",
        "        self.target = target\n",
        "        self.__message = None\n",
        "\n",
        "    def fill(self, text):\n",
        "        self.__message = text\n",
        "\n",
        "    def clear(self):\n",
        "        self.__message = None\n",
        "\n",
        "class ExtendedClipBoard(ClipBoard):\n",
        "    def __init__(self, target, message):\n",
        "        ClipBoard.target = target\n",
        "        ClipBoard.message = message\n",
        "        self.store = None\n",
        "\n",
        "    def save(self):\n",
        "        self.store = ClipBoard.target + ClipBoard.message\n",
        "\n",
        "    def remove(self):\n",
        "        self.store = None"
      ],
      "execution_count": 3,
      "outputs": []
    },
    {
      "cell_type": "code",
      "metadata": {
        "id": "15ad258f",
        "colab": {
          "base_uri": "https://localhost:8080/"
        },
        "outputId": "5bd03de8-d56e-4937-a280-2f40eb1f599c"
      },
      "source": [
        "ob = ClipBoard(\"ali\")\n",
        "print(ob.target)  # ali\n",
        "ob.fill(\"farshid\")\n",
        "print(ob._ClipBoard__message)  # farshid\n",
        "\n",
        "obj = ExtendedClipBoard(\"ali\", \"taha\")\n",
        "obj.save()\n",
        "print(obj.store)  # alitaha"
      ],
      "execution_count": 4,
      "outputs": [
        {
          "output_type": "stream",
          "name": "stdout",
          "text": [
            "ali\n",
            "farshid\n",
            "alitaha\n"
          ]
        }
      ]
    },
    {
      "cell_type": "markdown",
      "metadata": {
        "id": "e6e2772b"
      },
      "source": [
        "🧠 Tips:\n",
        "* ❌ Don’t assign instance data like target to the class itself: `ClipBoard.target = ...` affects all instances!\n",
        "* Name mangling applies to `__message` again.\n",
        "* Prefer `self.target` and `self.message` inside the class to avoid global mess."
      ]
    },
    {
      "cell_type": "markdown",
      "metadata": {
        "id": "8dad2dfc"
      },
      "source": [
        "🔁 Episode 4: \"Method Override: Who's the Boss?\""
      ]
    },
    {
      "cell_type": "code",
      "metadata": {
        "id": "d769bc36",
        "colab": {
          "base_uri": "https://localhost:8080/"
        },
        "outputId": "25aefcf5-4cba-4f54-941a-58585249db91"
      },
      "source": [
        "class A:\n",
        "    def __init__(self):\n",
        "        print(\"A\")\n",
        "        self.x = 5\n",
        "\n",
        "    def func(self):\n",
        "        self.x = 2\n",
        "\n",
        "class B(A):\n",
        "    def func(self):\n",
        "        self.x += 1\n",
        "        return self.x\n",
        "\n",
        "b = B()\n",
        "print(b.func())"
      ],
      "execution_count": 5,
      "outputs": [
        {
          "output_type": "stream",
          "name": "stdout",
          "text": [
            "A\n",
            "6\n"
          ]
        }
      ]
    },
    {
      "cell_type": "markdown",
      "metadata": {
        "id": "cea904c3"
      },
      "source": [
        "🧠 Tips:\n",
        "* Even if a class doesn’t override `__init__`, the parent’s `__init__` runs.\n",
        "* `func()` in `B` overrides `A.func()`.\n",
        "* But `A.__init__` still sets `x = 5`. Then `B.func()` updates it."
      ]
    },
    {
      "cell_type": "markdown",
      "metadata": {
        "id": "ef4273fc"
      },
      "source": [
        "🔄 Episode 5: \"__str__\" Drama: What Gets Printed?"
      ]
    },
    {
      "cell_type": "code",
      "metadata": {
        "id": "45534754",
        "colab": {
          "base_uri": "https://localhost:8080/"
        },
        "outputId": "4ec9d181-da04-4b8e-c5b6-a4b3833fa717"
      },
      "source": [
        "class A:\n",
        "    def __str__(self):\n",
        "        return \"A\"\n",
        "\n",
        "class B(A):\n",
        "    def __str__(self):\n",
        "        return \"B\"\n",
        "\n",
        "class C(B):\n",
        "    pass\n",
        "\n",
        "ob = C()\n",
        "print(ob)"
      ],
      "execution_count": 6,
      "outputs": [
        {
          "output_type": "stream",
          "name": "stdout",
          "text": [
            "B\n"
          ]
        }
      ]
    },
    {
      "cell_type": "markdown",
      "metadata": {
        "id": "d4e948cd"
      },
      "source": [
        "🧠 Tips:\n",
        "* `__str__()` defines what `print(obj)` shows.\n",
        "* Since `C` doesn't define its own, Python looks up the chain → finds `B.__str__`."
      ]
    },
    {
      "cell_type": "markdown",
      "metadata": {
        "id": "b2e030c9"
      },
      "source": [
        "🧬 Episode 6: \"Constructor Chains – To super() or Not to super()\""
      ]
    },
    {
      "cell_type": "code",
      "metadata": {
        "id": "25363742",
        "colab": {
          "base_uri": "https://localhost:8080/"
        },
        "outputId": "f0130cdc-6771-41d9-c8a5-61e2914c5333"
      },
      "source": [
        "class A:\n",
        "    def __init__(self):\n",
        "        print(\"A\")\n",
        "        # super().__init__() # Commenting out to show behavior without explicit super()\n",
        "\n",
        "    def __str__(self):\n",
        "        return \"hello\"\n",
        "\n",
        "class B(A):\n",
        "    def __init__(self):\n",
        "        print(\"B\")\n",
        "\n",
        "class C(B):\n",
        "    def __init__(self):\n",
        "        print(\"C\")\n",
        "        super().__init__()\n",
        "\n",
        "b = B()\n",
        "print(b)\n",
        "c = C()\n",
        "print(c)"
      ],
      "execution_count": 7,
      "outputs": [
        {
          "output_type": "stream",
          "name": "stdout",
          "text": [
            "B\n",
            "hello\n",
            "C\n",
            "B\n",
            "hello\n"
          ]
        }
      ]
    },
    {
      "cell_type": "markdown",
      "metadata": {
        "id": "ac70b561"
      },
      "source": [
        "🧠 Tips:\n",
        "* Even if a class doesn’t call `super()`, Python still respects the class structure (Method Resolution Order - MRO).\n",
        "* `__str__()` from A still works, even when subclass constructors don't explicitly call the parent's `__init__`.\n",
        "* Constructor chain with `super()`: `C`'s `__init__` calls `B`'s `__init__`, which doesn't call its parent's `__init__` in this specific example. Without the `super().__init__()` in `B`, the `A.__init__` is not called during the creation of a `C` object in this chain."
      ]
    },
    {
      "cell_type": "markdown",
      "metadata": {
        "id": "b558eb7d"
      },
      "source": [
        "🧩 Episode 7: \"Polymorphism at Play: Dynamic Dispatch\""
      ]
    },
    {
      "cell_type": "code",
      "metadata": {
        "id": "83fb214e",
        "colab": {
          "base_uri": "https://localhost:8080/"
        },
        "outputId": "3bbc7cef-46c6-41e0-e4df-0b9138cfb4c7"
      },
      "source": [
        "class A:\n",
        "    def h(self):\n",
        "        return \"A\"\n",
        "\n",
        "    def f(self):\n",
        "        print(self.h())\n",
        "\n",
        "class B(A):\n",
        "    def h(self):\n",
        "        return \"B\"\n",
        "\n",
        "A().f()\n",
        "B().f()"
      ],
      "execution_count": 8,
      "outputs": [
        {
          "output_type": "stream",
          "name": "stdout",
          "text": [
            "A\n",
            "B\n"
          ]
        }
      ]
    },
    {
      "cell_type": "markdown",
      "metadata": {
        "id": "5beeaa46"
      },
      "source": [
        "🧠 Tips:\n",
        "* Method calls like `self.h()` are polymorphic – they call the method of the actual object, not just the class where it’s written. This is known as dynamic dispatch.\n",
        "* Even though `f()` is defined in `A`, when `B` overrides `h()`, calling `f()` on a `B` object will execute `B`'s version of `h()`."
      ]
    },
    {
      "cell_type": "markdown",
      "metadata": {
        "id": "ff743da8"
      },
      "source": [
        "🎬 Episode 8: \"Calling the Super Team!\""
      ]
    },
    {
      "cell_type": "code",
      "metadata": {
        "id": "d0bc9628",
        "colab": {
          "base_uri": "https://localhost:8080/"
        },
        "outputId": "22b3707c-5663-48a6-92d7-039d2783dd2f"
      },
      "source": [
        "class A:\n",
        "    def f(self):\n",
        "        print(\"1\")\n",
        "\n",
        "class B(A):\n",
        "    def f(self):\n",
        "        print(\"2\")\n",
        "        super().f()\n",
        "\n",
        "class C(B):\n",
        "    def f(self):\n",
        "        print(\"3\")\n",
        "        super().f()\n",
        "\n",
        "obj = C()\n",
        "obj.f()"
      ],
      "execution_count": 9,
      "outputs": [
        {
          "output_type": "stream",
          "name": "stdout",
          "text": [
            "3\n",
            "2\n",
            "1\n"
          ]
        }
      ]
    },
    {
      "cell_type": "markdown",
      "metadata": {
        "id": "89133147"
      },
      "source": [
        "🧠 Tips:\n",
        "* `super().f()` climbs up the inheritance ladder.\n",
        "* Output: Starts in C, then B, then A. Classic method chaining.\n",
        "* Useful in frameworks like Django or Tkinter."
      ]
    },
    {
      "cell_type": "markdown",
      "metadata": {
        "id": "3f81b564"
      },
      "source": [
        "🧪 Episode 9: \"Constructor Madness – Who’s Setting What?\""
      ]
    },
    {
      "cell_type": "code",
      "metadata": {
        "id": "f879b922",
        "colab": {
          "base_uri": "https://localhost:8080/"
        },
        "outputId": "9d5b369c-b412-487a-f6b0-7f01764dcc59"
      },
      "source": [
        "class A:\n",
        "    def __init__(self):\n",
        "        self.f(4)\n",
        "        print(self.x)\n",
        "\n",
        "    def f(self, x):\n",
        "        self.x = 3 * x\n",
        "\n",
        "class B(A):\n",
        "    def __init__(self):\n",
        "        super().__init__()\n",
        "\n",
        "b = B()"
      ],
      "execution_count": 10,
      "outputs": [
        {
          "output_type": "stream",
          "name": "stdout",
          "text": [
            "12\n"
          ]
        }
      ]
    },
    {
      "cell_type": "code",
      "metadata": {
        "id": "61b1e62e",
        "colab": {
          "base_uri": "https://localhost:8080/"
        },
        "outputId": "405e438c-abab-4c12-aaeb-a1c0872fc8ce"
      },
      "source": [
        "class B(A):\n",
        "    def __init__(self):\n",
        "        super().__init__()\n",
        "\n",
        "    def f(self, x):\n",
        "        self.x = 2 * x\n",
        "\n",
        "b = B()"
      ],
      "execution_count": 11,
      "outputs": [
        {
          "output_type": "stream",
          "name": "stdout",
          "text": [
            "8\n"
          ]
        }
      ]
    },
    {
      "cell_type": "markdown",
      "metadata": {
        "id": "e48196aa"
      },
      "source": [
        "🧠 Tips:\n",
        "* Even though `f()` is defined in `A`, the `B` version is used during `super().__init__()` because `self` is still a `B` instance.\n",
        "* Python uses dynamic dispatch even in constructors!"
      ]
    },
    {
      "cell_type": "markdown",
      "metadata": {
        "id": "51c0eee7"
      },
      "source": [
        "🌍 Episode 10: \"Global vs Class vs Instance: The x Dilemma\""
      ]
    },
    {
      "cell_type": "code",
      "metadata": {
        "id": "b97cb61e",
        "colab": {
          "base_uri": "https://localhost:8080/",
          "height": 332
        },
        "outputId": "d48007c8-b09e-48a3-e926-4bec12953759"
      },
      "source": [
        "class B:\n",
        "    x = 0\n",
        "\n",
        "    def __init__(self):\n",
        "        x = 1\n",
        "        print(\"B\")\n",
        "\n",
        "class D(B):\n",
        "    def __init__(self):\n",
        "        super().__init__()\n",
        "        global x\n",
        "        print(x)\n",
        "        x = 2\n",
        "        print(\"D\")\n",
        "\n",
        "ob = D()\n",
        "print(x)"
      ],
      "execution_count": 12,
      "outputs": [
        {
          "output_type": "stream",
          "name": "stdout",
          "text": [
            "B\n"
          ]
        },
        {
          "output_type": "error",
          "ename": "NameError",
          "evalue": "name 'x' is not defined",
          "traceback": [
            "\u001b[0;31m---------------------------------------------------------------------------\u001b[0m",
            "\u001b[0;31mNameError\u001b[0m                                 Traceback (most recent call last)",
            "\u001b[0;32m/tmp/ipython-input-1505169496.py\u001b[0m in \u001b[0;36m<cell line: 0>\u001b[0;34m()\u001b[0m\n\u001b[1;32m     14\u001b[0m         \u001b[0mprint\u001b[0m\u001b[0;34m(\u001b[0m\u001b[0;34m\"D\"\u001b[0m\u001b[0;34m)\u001b[0m\u001b[0;34m\u001b[0m\u001b[0;34m\u001b[0m\u001b[0m\n\u001b[1;32m     15\u001b[0m \u001b[0;34m\u001b[0m\u001b[0m\n\u001b[0;32m---> 16\u001b[0;31m \u001b[0mob\u001b[0m \u001b[0;34m=\u001b[0m \u001b[0mD\u001b[0m\u001b[0;34m(\u001b[0m\u001b[0;34m)\u001b[0m\u001b[0;34m\u001b[0m\u001b[0;34m\u001b[0m\u001b[0m\n\u001b[0m\u001b[1;32m     17\u001b[0m \u001b[0mprint\u001b[0m\u001b[0;34m(\u001b[0m\u001b[0mx\u001b[0m\u001b[0;34m)\u001b[0m\u001b[0;34m\u001b[0m\u001b[0;34m\u001b[0m\u001b[0m\n",
            "\u001b[0;32m/tmp/ipython-input-1505169496.py\u001b[0m in \u001b[0;36m__init__\u001b[0;34m(self)\u001b[0m\n\u001b[1;32m     10\u001b[0m         \u001b[0msuper\u001b[0m\u001b[0;34m(\u001b[0m\u001b[0;34m)\u001b[0m\u001b[0;34m.\u001b[0m\u001b[0m__init__\u001b[0m\u001b[0;34m(\u001b[0m\u001b[0;34m)\u001b[0m\u001b[0;34m\u001b[0m\u001b[0;34m\u001b[0m\u001b[0m\n\u001b[1;32m     11\u001b[0m         \u001b[0;32mglobal\u001b[0m \u001b[0mx\u001b[0m\u001b[0;34m\u001b[0m\u001b[0;34m\u001b[0m\u001b[0m\n\u001b[0;32m---> 12\u001b[0;31m         \u001b[0mprint\u001b[0m\u001b[0;34m(\u001b[0m\u001b[0mx\u001b[0m\u001b[0;34m)\u001b[0m\u001b[0;34m\u001b[0m\u001b[0;34m\u001b[0m\u001b[0m\n\u001b[0m\u001b[1;32m     13\u001b[0m         \u001b[0mx\u001b[0m \u001b[0;34m=\u001b[0m \u001b[0;36m2\u001b[0m\u001b[0;34m\u001b[0m\u001b[0;34m\u001b[0m\u001b[0m\n\u001b[1;32m     14\u001b[0m         \u001b[0mprint\u001b[0m\u001b[0;34m(\u001b[0m\u001b[0;34m\"D\"\u001b[0m\u001b[0;34m)\u001b[0m\u001b[0;34m\u001b[0m\u001b[0;34m\u001b[0m\u001b[0m\n",
            "\u001b[0;31mNameError\u001b[0m: name 'x' is not defined"
          ]
        }
      ]
    },
    {
      "cell_type": "markdown",
      "metadata": {
        "id": "719b4042"
      },
      "source": [
        "🧠 Tips:\n",
        "* `x = 1` inside `__init__` is a local variable.\n",
        "* `B.x = 0` is a class variable.\n",
        "* `global x` refers to the top-level variable. Be careful not to confuse them!"
      ]
    },
    {
      "cell_type": "markdown",
      "metadata": {
        "id": "35b24eef"
      },
      "source": [
        "🧮 Episode 11: \"Method Overriding... Or Not?\""
      ]
    },
    {
      "cell_type": "code",
      "metadata": {
        "id": "5d698bc0"
      },
      "source": [
        "class A:\n",
        "    def __init__(self, x=1):\n",
        "        self.x = x\n",
        "\n",
        "    def f(self):\n",
        "        self.x += 2\n",
        "\n",
        "class B(A):\n",
        "    def __init__(self, y=3):\n",
        "        A.__init__(self, 4)\n",
        "        self.y = y\n",
        "\n",
        "    def f(self):\n",
        "        self.y += 5\n",
        "\n",
        "b = B()\n",
        "print(b.x, b.y)\n",
        "b.f()\n",
        "print(b.x, b.y)"
      ],
      "execution_count": null,
      "outputs": []
    },
    {
      "cell_type": "markdown",
      "metadata": {
        "id": "1429f736"
      },
      "source": [
        "🧠 Tips:\n",
        "* `B.f()` overrides `A.f()` — so `self.x` stays unchanged.\n",
        "* Calling `A.__init__` directly is fine, but `super()` is better.\n",
        "* Be careful: only `y` gets updated in `f()` here."
      ]
    },
    {
      "cell_type": "markdown",
      "metadata": {
        "id": "23a4f835"
      },
      "source": [
        "👨‍💼 Episode 12: \"People, Managers & Pay Raises\""
      ]
    },
    {
      "cell_type": "code",
      "metadata": {
        "id": "0f13a55d"
      },
      "source": [
        "class Person:\n",
        "    def __init__(self, name, job=None, pay=0):\n",
        "        self.name = name\n",
        "        self.job = job\n",
        "        self.pay = pay\n",
        "\n",
        "    def f(self, percent):\n",
        "        self.pay = int(self.pay * (1 + percent))\n",
        "\n",
        "    def __repr__(self):\n",
        "        return \"[Person: %s, %s]\" % (self.name, self.pay)\n",
        "\n",
        "class Manager(Person):\n",
        "    def __init__(self, name, pay):\n",
        "        Person.__init__(self, name, \"mgr\", pay)\n",
        "\n",
        "    def f(self, percent, bonus=0.10):\n",
        "        Person.f(self, percent + bonus)\n",
        "\n",
        "ali = Person(\"Ali\")\n",
        "sara = Person(\"Sara\", job=\"dev\", pay=10)\n",
        "taha = Manager(\"Taha\", 40)\n",
        "\n",
        "for i in (ali, sara, taha):\n",
        "    i.f(0.10)\n",
        "    print(i)"
      ],
      "execution_count": null,
      "outputs": []
    },
    {
      "cell_type": "markdown",
      "metadata": {
        "id": "dabe59ad"
      },
      "source": [
        "🧠 Tips:\n",
        "* Manager gives extra bonus on top of raise.\n",
        "* `__repr__` makes objects readable in print.\n",
        "* Practical OOP for modeling real-world scenarios."
      ]
    },
    {
      "cell_type": "markdown",
      "metadata": {
        "id": "e391c5e2"
      },
      "source": [
        "📏 Episode 13: \"Polygons, Points, and Perimeters\""
      ]
    },
    {
      "cell_type": "code",
      "metadata": {
        "id": "77d498c3"
      },
      "source": [
        "import math\n",
        "\n",
        "class Point:\n",
        "    def __init__(self, x, y):\n",
        "        self.x = x\n",
        "        self.y = y\n",
        "\n",
        "    def distance(self, p2):\n",
        "        return math.sqrt((self.x - p2.x) ** 2 + (self.y - p2.y) ** 2)\n",
        "\n",
        "class Polygon:\n",
        "    def __init__(self):\n",
        "        self.vertices = []\n",
        "\n",
        "    def add_point(self, point):\n",
        "        self.vertices.append(point)\n",
        "\n",
        "    def perimeter(self):\n",
        "        p = 0\n",
        "        points = self.vertices + [self.vertices[0]]\n",
        "        for i in range(len(self.vertices)):\n",
        "            p += points[i].distance(points[i + 1])\n",
        "        return p\n",
        "\n",
        "square = Polygon()\n",
        "square.add_point(Point(1, 1))\n",
        "square.add_point(Point(1, 2))\n",
        "square.add_point(Point(2, 2))\n",
        "square.add_point(Point(2, 1))\n",
        "print(square.perimeter())"
      ],
      "execution_count": null,
      "outputs": []
    },
    {
      "cell_type": "markdown",
      "metadata": {
        "id": "945c0387"
      },
      "source": [
        "🧠 Tips:\n",
        "* Adds object collaboration: points know distance; polygons use them.\n",
        "* `+ [self.vertices[0]]` closes the loop to compute full perimeter."
      ]
    },
    {
      "cell_type": "markdown",
      "metadata": {
        "id": "7d584a24"
      },
      "source": [
        "🧱 Episode 14: \"2D vs 3D Points – Inheritance Upgrade!\""
      ]
    },
    {
      "cell_type": "code",
      "metadata": {
        "id": "4d413771"
      },
      "source": [
        "class Point:\n",
        "    def __init__(self, x, y):\n",
        "        self.x = x\n",
        "        self.y = y\n",
        "\n",
        "    def translate(self, dx, dy):\n",
        "        self.x += dx\n",
        "        self.y += dy\n",
        "\n",
        "    def __str__(self):\n",
        "        return \"(\" + str(self.x) + \", \" + str(self.y) + \")\"\n",
        "\n",
        "class Point3D(Point):\n",
        "    z = 0\n",
        "\n",
        "    def __init__(self, x, y, z):\n",
        "        Point.__init__(self, x, y)\n",
        "        self.z = z\n",
        "\n",
        "    def translate(self, dx, dy, dz):\n",
        "        Point.translate(self, dx, dy)\n",
        "        self.z += dz\n",
        "\n",
        "p = Point(3, -4)\n",
        "p.translate(1, 5)\n",
        "print(p)\n",
        "\n",
        "q = Point3D(1, 2, 3)\n",
        "print(q)"
      ],
      "execution_count": null,
      "outputs": []
    },
    {
      "cell_type": "markdown",
      "metadata": {
        "id": "3f56f167"
      },
      "source": [
        "🧠 Tips:\n",
        "* `Point3D` extends `Point`, adding `z` and custom `translate`.\n",
        "* Even though `print(q)` shows `(1, 2)`, it’s a 3D point internally.\n",
        "* You could also override `__str__` in `Point3D` for better output!"
      ]
    },
    {
      "cell_type": "markdown",
      "metadata": {
        "id": "c5739f12"
      },
      "source": [
        "🎵 Episode 15: \"AudioFiles with a Twist of Exceptions\""
      ]
    },
    {
      "cell_type": "code",
      "metadata": {
        "id": "9f1cca7b"
      },
      "source": [
        "class AudioFile:\n",
        "    def __init__(self, filename):\n",
        "        if not filename.endswith(self.ext):\n",
        "            raise Exception(\"Invalid file format\")\n",
        "        self.filename = filename\n",
        "\n",
        "class MP3File(AudioFile):\n",
        "    ext = \"mp3\"\n",
        "    def play(self):\n",
        "        print(\"playing {} as mp3\".format(self.filename))\n",
        "\n",
        "class WavFile(AudioFile):\n",
        "    ext = \"wav\"\n",
        "    def play(self):\n",
        "        print(\"playing {} as wav\".format(self.filename))\n",
        "\n",
        "mp3 = MP3File(\"a.mp3\")\n",
        "mp3.play()"
      ],
      "execution_count": null,
      "outputs": []
    },
    {
      "cell_type": "markdown",
      "metadata": {
        "id": "bd796b2f"
      },
      "source": [
        "🧠 Tips:\n",
        "* Define `ext` in each subclass for custom behavior.\n",
        "* Forces each file type to match its expected format.\n",
        "* Clean way to mix OOP with basic validation logic."
      ]
    },
    {
      "cell_type": "markdown",
      "metadata": {
        "id": "fe3d4017"
      },
      "source": [
        "🧪 Episode 16: \"Atoms & Molecules – OOP Chemistry!\""
      ]
    },
    {
      "cell_type": "code",
      "metadata": {
        "id": "36c2ca80"
      },
      "source": [
        "class atom:\n",
        "    def __init__(self, atno, x, y, z):\n",
        "        self.atno = atno\n",
        "        self.p = (x, y, z)\n",
        "\n",
        "    def __repr__(self):\n",
        "        return \"%d %10.4f %10.4f %10.4f\" % (self.atno, *self.p)\n",
        "\n",
        "class molecule:\n",
        "    def __init__(self, name=\"Generic\"):\n",
        "        self.name = name\n",
        "        self.atomlist = []\n",
        "\n",
        "    def addatom(self, atom):\n",
        "        self.atomlist.append(atom)\n",
        "\n",
        "    def __repr__(self):\n",
        "        str = f\"This is a molecule named {self.name}\\n\"\n",
        "        str += f\"It has {len(self.atomlist)} atoms\\n\"\n",
        "        str += \"atom\\n\" * len(self.atomlist)\n",
        "        return str"
      ],
      "execution_count": null,
      "outputs": []
    },
    {
      "cell_type": "code",
      "metadata": {
        "id": "2a10f739"
      },
      "source": [
        "mol = molecule(\"Water\")\n",
        "mol.addatom(atom(8, 0.0, 0.0, 0.0))\n",
        "mol.addatom(atom(1, 0.0, 0.0, 1.0))\n",
        "mol.addatom(atom(1, 0.0, 1.0, 0.0))\n",
        "print(mol)"
      ],
      "execution_count": null,
      "outputs": []
    },
    {
      "cell_type": "markdown",
      "metadata": {
        "id": "ad5ab7fc"
      },
      "source": [
        "🧠 Tips:\n",
        "* Great real-world mapping of OOP: atoms inside molecules.\n",
        "* `__repr__` defines how objects print in console/debugging.\n",
        "* Use `*self.p` to unpack 3D coordinates in formatting."
      ]
    },
    {
      "cell_type": "markdown",
      "metadata": {
        "id": "f7037189"
      },
      "source": [
        "🧬 Episode 17: \"Multiple Inheritance: Counting the Chaos\""
      ]
    },
    {
      "cell_type": "code",
      "metadata": {
        "id": "7f348ffa"
      },
      "source": [
        "class B:\n",
        "    cb = 0\n",
        "    def f(self): self.cb += 1\n",
        "\n",
        "class L(B):\n",
        "    cl = 0\n",
        "    def f(self):\n",
        "        B.f(self)\n",
        "        self.cl += 1\n",
        "\n",
        "class R(B):\n",
        "    cr = 0\n",
        "    def f(self):\n",
        "        B.f(self)\n",
        "        self.cr += 1\n",
        "\n",
        "class S(L, R):\n",
        "    cs = 0\n",
        "    def f(self):\n",
        "        L.f(self)\n",
        "        R.f(self)\n",
        "        self.cs += 1\n",
        "\n",
        "s = S()\n",
        "s.f()\n",
        "print(s.cb, s.cl, s.cr, s.cs)"
      ],
      "execution_count": null,
      "outputs": []
    },
    {
      "cell_type": "markdown",
      "metadata": {
        "id": "1a6bef09"
      },
      "source": [
        "🧠 Tips:\n",
        "* Watch out! `B.f()` is called twice → `cb = 2`.\n",
        "* Each class has its own counter.\n",
        "* Be careful with diamond inheritance patterns."
      ]
    },
    {
      "cell_type": "markdown",
      "metadata": {
        "id": "c5ca0dd1"
      },
      "source": [
        "🧠 Episode 18: \"Super() Powers in Multiple Inheritance\""
      ]
    },
    {
      "cell_type": "code",
      "metadata": {
        "id": "04e5fc16"
      },
      "source": [
        "class B:\n",
        "    a = 0\n",
        "    def f(self): self.a += 1\n",
        "\n",
        "class L(B):\n",
        "    b = 0\n",
        "    def f(self):\n",
        "        super().f()\n",
        "        self.b += 1\n",
        "\n",
        "class R(B):\n",
        "    c = 0\n",
        "    def f(self):\n",
        "        super().f()\n",
        "        self.c += 1\n",
        "\n",
        "class S(L, R):\n",
        "    d = 0\n",
        "    def f(self):\n",
        "        super().f()\n",
        "        self.d += 1\n",
        "\n",
        "s = S()\n",
        "s.f()\n",
        "print(s.a, s.b, s.c, s.d)"
      ],
      "execution_count": null,
      "outputs": []
    },
    {
      "cell_type": "markdown",
      "metadata": {
        "id": "441dd205"
      },
      "source": [
        "🧠 Tips:\n",
        "* This time `super()` works smarter — no duplicate calls to `B.f()`.\n",
        "* Python uses Method Resolution Order (MRO) to manage this.\n",
        "* Use `super()` when chaining across complex inheritance trees."
      ]
    },
    {
      "cell_type": "markdown",
      "metadata": {
        "id": "cbe0c6d4"
      },
      "source": [
        "🧰 Episode 19: \"Name Mangling in Deep Inheritance\""
      ]
    },
    {
      "cell_type": "code",
      "metadata": {
        "id": "f76cea13"
      },
      "source": [
        "class C1:\n",
        "    def f(self): self.__X = 1\n",
        "    def g(self): print(self.__X)\n",
        "\n",
        "class C2:\n",
        "    def h(self): self.__X = 2\n",
        "    def w(self): print(self.__X)\n",
        "\n",
        "class C3(C1, C2): pass\n",
        "\n",
        "I = C3()\n",
        "I.f()\n",
        "I.h()\n",
        "print(I.__dict__)\n",
        "I.g()\n",
        "I.w()"
      ],
      "execution_count": null,
      "outputs": []
    },
    {
      "cell_type": "markdown",
      "metadata": {
        "id": "8fa1821c"
      },
      "source": [
        "🧠 Tips:\n",
        "* `__X` becomes `_ClassName__X`, not shared between classes.\n",
        "* Each class gets its own private-ish variable.\n",
        "* Great example of Python’s name mangling."
      ]
    },
    {
      "cell_type": "markdown",
      "metadata": {
        "id": "a76ecf65"
      },
      "source": [
        "🧞 Episode 20: \"Summoning super() with Style\""
      ]
    },
    {
      "cell_type": "code",
      "metadata": {
        "id": "97913d49"
      },
      "source": [
        "class C:\n",
        "    def act(self): print(\"C\")\n",
        "\n",
        "class D(C):\n",
        "    def act(self):\n",
        "        super().act()\n",
        "        print(\"D\")\n",
        "\n",
        "class E(C):\n",
        "    def m(self):\n",
        "        p = super()\n",
        "        print(p)\n",
        "        p.act()\n",
        "\n",
        "X = D()\n",
        "X.act()\n",
        "print(super)\n",
        "E().m()"
      ],
      "execution_count": null,
      "outputs": []
    },
    {
      "cell_type": "markdown",
      "metadata": {
        "id": "b52ec561"
      },
      "source": [
        "🧠 Tips:\n",
        "* `super()` can be stored and reused — it’s an actual object!\n",
        "* Used heavily in class frameworks and decorators.\n",
        "* `print(super)` shows it’s a builtin class wrapper."
      ]
    },
    {
      "cell_type": "markdown",
      "metadata": {
        "id": "11e7262c"
      },
      "source": [
        "🎎 Episode 21: \"Class Hierarchies & MRO Mysteries\""
      ]
    },
    {
      "cell_type": "code",
      "metadata": {
        "id": "cbac034e"
      },
      "source": [
        "class A: def act(self): print(\"A\")\n",
        "class B: def act(self): print(\"B\")\n",
        "class C(B, A): def act(self): super().act()\n",
        "\n",
        "X = C()\n",
        "X.act()"
      ],
      "execution_count": null,
      "outputs": []
    },
    {
      "cell_type": "code",
      "metadata": {
        "id": "4ba1b3cc"
      },
      "source": [
        "class B: def __init__(self): print(\"B\")\n",
        "class C: def __init__(self): print(\"C\")\n",
        "class D(B, C): pass\n",
        "d = D()"
      ],
      "execution_count": null,
      "outputs": []
    },
    {
      "cell_type": "markdown",
      "metadata": {
        "id": "ac23c541"
      },
      "source": [
        "🧠 Tips:\n",
        "* MRO always favors left-first in multiple inheritance.\n",
        "* Constructors from the first parent get called if others aren’t explicitly invoked.\n",
        "* Use `print(D.__mro__)` to see the full resolution order."
      ]
    },
    {
      "cell_type": "markdown",
      "metadata": {
        "id": "0d6ddf06"
      },
      "source": [
        "🧭 Episode 22: \"Finding the Winning Class Attribute!\""
      ]
    },
    {
      "cell_type": "code",
      "metadata": {
        "id": "ab958da8"
      },
      "source": [
        "class A: x = 1\n",
        "class B(A): x = 2\n",
        "class C(A): x = 3\n",
        "class D(C, B): pass\n",
        "\n",
        "d = D()\n",
        "print(d.x)"
      ],
      "execution_count": null,
      "outputs": []
    },
    {
      "cell_type": "markdown",
      "metadata": {
        "id": "2a8da500"
      },
      "source": [
        "🧠 Tips:\n",
        "* Python searches attributes left-to-right based on MRO.\n",
        "* MRO for D = D → C → B → A → object\n",
        "* So x=3 wins, from C."
      ]
    },
    {
      "cell_type": "markdown",
      "metadata": {
        "id": "051e18b1"
      },
      "source": [
        "🧬 Episode 23: \"Let’s Explore MRO Deeply!\""
      ]
    },
    {
      "cell_type": "code",
      "metadata": {
        "id": "270ef0db"
      },
      "source": [
        "class A: x = 1\n",
        "class B(A): pass\n",
        "class C(A): x = 3\n",
        "class D(B, C): pass\n",
        "\n",
        "d = D()\n",
        "print(d.x)\n",
        "print([cls.__name__ for cls in D.__mro__])\n",
        "print(D.__bases__)"
      ],
      "execution_count": null,
      "outputs": []
    },
    {
      "cell_type": "markdown",
      "metadata": {
        "id": "59b8a736"
      },
      "source": [
        "🧠 Tips:\n",
        "* Use `__mro__` or `mro()` to inspect class resolution order.\n",
        "* `__bases__` shows direct parents.\n",
        "* Super helpful when debugging complex class trees."
      ]
    },
    {
      "cell_type": "markdown",
      "metadata": {
        "id": "6237dbb1"
      },
      "source": [
        "🧩 Episode 24: \"Custom Dictionary – With a Bonus Method!\""
      ]
    },
    {
      "cell_type": "code",
      "metadata": {
        "id": "37abe0bd"
      },
      "source": [
        "class D(dict):\n",
        "    def longest_key(self):\n",
        "        l = None\n",
        "        for key in self:\n",
        "            if not l or len(key) > len(l):\n",
        "                l = key\n",
        "        return l\n",
        "\n",
        "ob = D()\n",
        "ob[\"sara\"] = 1\n",
        "ob[\"farshid\"] = 5\n",
        "ob[\"taha\"] = 3\n",
        "print(ob)\n",
        "print(ob.longest_key())"
      ],
      "execution_count": null,
      "outputs": []
    },
    {
      "cell_type": "markdown",
      "metadata": {
        "id": "375a8bbd"
      },
      "source": [
        "🧠 Tips:\n",
        "* Subclass built-ins like `dict` to extend behavior.\n",
        "* Still works like a regular dictionary, but with your own superpowers.\n",
        "* In this case: find the longest key!"
      ]
    },
    {
      "cell_type": "markdown",
      "metadata": {
        "id": "c09652dc"
      },
      "source": [
        "📇 Episode 25: \"Auto-Registering Contacts\""
      ]
    },
    {
      "cell_type": "code",
      "metadata": {
        "id": "da4ee6cd"
      },
      "source": [
        "class ContactList(list):\n",
        "    def search(self, name):\n",
        "        return [c for c in self if name in c.name]\n",
        "\n",
        "class Contact:\n",
        "    ac = ContactList()\n",
        "    def __init__(self, name, email):\n",
        "        self.name = name\n",
        "        self.email = email\n",
        "        self.ac.append(self)\n",
        "\n",
        "c1 = Contact(\"Ali reza\", \"ali@gmail.com\")\n",
        "c2 = Contact(\"Ali taha\", \"ali@gmail.com\")\n",
        "c3 = Contact(\"Sara Z\", \"sara@gmail.com\")\n",
        "\n",
        "print([c.name for c in Contact.ac.search(\"Ali\")])"
      ],
      "execution_count": null,
      "outputs": []
    },
    {
      "cell_type": "markdown",
      "metadata": {
        "id": "352b22dc"
      },
      "source": [
        "🧠 Tips:\n",
        "* Shared contact list (`ac`) is class-level!\n",
        "* Each new `Contact` adds itself to the shared list.\n",
        "* Simple pattern for basic auto-registration."
      ]
    },
    {
      "cell_type": "markdown",
      "metadata": {
        "id": "dff3326e"
      },
      "source": [
        "🔢 Episode 26: \"MyList – Index Like a Human!\""
      ]
    },
    {
      "cell_type": "code",
      "metadata": {
        "id": "c6bbe53a"
      },
      "source": [
        "class MyList(list):\n",
        "    def __getitem__(self, offset):\n",
        "        return list.__getitem__(self, offset - 1)\n",
        "\n",
        "lst = list(\"abc\")\n",
        "print(lst[1])\n",
        "\n",
        "x = MyList(\"abc\")\n",
        "print(x[1])\n",
        "x.append(\"d\")\n",
        "x.reverse()\n",
        "print(x)"
      ],
      "execution_count": null,
      "outputs": []
    },
    {
      "cell_type": "markdown",
      "metadata": {
        "id": "adca810b"
      },
      "source": [
        "🧠 Tips:\n",
        "* Subclassing `list` lets you customize indexing.\n",
        "* This list starts at 1 (not 0)! Useful for human-friendly lists.\n",
        "* Be very cautious: it can break expectations."
      ]
    },
    {
      "cell_type": "markdown",
      "metadata": {
        "id": "f997e9b0"
      },
      "source": [
        "🧙‍♂️ Episode 27: \"Custom Set with Magic Operators\""
      ]
    },
    {
      "cell_type": "code",
      "metadata": {
        "id": "f951ef43"
      },
      "source": [
        "class C:\n",
        "    def __init__(self, value=[]):\n",
        "        self.data = []\n",
        "        self.concat(value)\n",
        "\n",
        "    def intersect(self, other):\n",
        "        return C([x for x in self.data if x in other])\n",
        "\n",
        "    def union(self, other):\n",
        "        return C(self.data + [x for x in other if x not in self.data])\n",
        "\n",
        "    def concat(self, value):\n",
        "        for x in value:\n",
        "            if x not in self.data:\n",
        "                self.data.append(x)\n",
        "\n",
        "    def __len__(self): return len(self.data)\n",
        "    def __getitem__(self, key): return self.data[key]\n",
        "    def __and__(self, other): return self.intersect(other)\n",
        "    def __or__(self, other): return self.union(other)\n",
        "    def __repr__(self): return repr(self.data)\n",
        "    def __iter__(self): return iter(self.data)\n",
        "\n",
        "x = C([1, 3, 5])\n",
        "print(x.union(C([1, 4])))\n",
        "print(x | C([1, 4]))"
      ],
      "execution_count": null,
      "outputs": []
    },
    {
      "cell_type": "markdown",
      "metadata": {
        "id": "c0eb4ffe"
      },
      "source": [
        "🧠 Tips:\n",
        "* Operator overloading makes your class feel native.\n",
        "* `&`, `|` work like set math.\n",
        "* Overload `__iter__` to make your class iterable in for loops."
      ]
    },
    {
      "cell_type": "markdown",
      "metadata": {
        "id": "0922d676"
      },
      "source": [
        "🧠 Episode 28: \"Set Behavior with List Power\""
      ]
    },
    {
      "cell_type": "code",
      "metadata": {
        "id": "55ae4ccb"
      },
      "source": [
        "class MySet(list):\n",
        "    def __init__(self, value=[]):\n",
        "        list.__init__([])\n",
        "        self.concat(value)\n",
        "\n",
        "    def intersect(self, other):\n",
        "        return MySet([x for x in self if x in other])\n",
        "\n",
        "    def union(self, other):\n",
        "        res = MySet(self)\n",
        "        res.concat(other)\n",
        "        return res\n",
        "\n",
        "    def concat(self, value):\n",
        "        for x in value:\n",
        "            if x not in self:\n",
        "                self.append(x)\n",
        "\n",
        "    def __and__(self, other): return self.intersect(other)\n",
        "    def __or__(self, other): return self.union(other)\n",
        "    def __repr__(self): return \"Set:\" + list.__repr__(self)"
      ],
      "execution_count": null,
      "outputs": []
    },
    {
      "cell_type": "code",
      "metadata": {
        "id": "1aa03c49"
      },
      "source": [
        "x = MySet([1, 3, 5])\n",
        "y = MySet([3, 6])\n",
        "print(len(x))\n",
        "x.reverse()\n",
        "print(x)\n",
        "print(x & y)\n",
        "print(x | y)"
      ],
      "execution_count": null,
      "outputs": []
    },
    {
      "cell_type": "markdown",
      "metadata": {
        "id": "8215273c"
      },
      "source": [
        "🧠 Tips:\n",
        "* Combines set uniqueness with list flexibility.\n",
        "* Very clean for DIY math sets.\n",
        "* Great place to learn `__and__`, `__or__`, and `__repr__`."
      ]
    },
    {
      "cell_type": "markdown",
      "metadata": {
        "id": "39cbc49f"
      },
      "source": [
        "🌳 Final Episode: \"Draw Your Class Family Tree!\""
      ]
    },
    {
      "cell_type": "code",
      "metadata": {
        "id": "34290814"
      },
      "source": [
        "def classtree(cls, i):\n",
        "    print(\".\" * i + cls.__name__)\n",
        "    for sc in cls.__bases__:\n",
        "        classtree(sc, i + 2)\n",
        "\n",
        "def instancetree(inst):\n",
        "    classtree(inst.__class__, 1)\n",
        "\n",
        "def test():\n",
        "    class A: pass\n",
        "    class B(A): pass\n",
        "    class C(A): pass\n",
        "    class D(B, C): pass\n",
        "    class E: pass\n",
        "    class F(D, E): pass\n",
        "    instancetree(F())\n",
        "\n",
        "test()"
      ],
      "execution_count": null,
      "outputs": []
    },
    {
      "cell_type": "markdown",
      "metadata": {
        "id": "5372bde5"
      },
      "source": [
        "🧠 Tips:\n",
        "* Shows inheritance visually using recursion!\n",
        "* Helps understand complex MRO cases.\n",
        "* You can use this to debug or learn how Python views class trees."
      ]
    }
  ]
}